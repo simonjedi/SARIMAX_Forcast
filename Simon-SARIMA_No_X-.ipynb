{
 "cells": [
  {
   "cell_type": "code",
   "execution_count": 1,
   "metadata": {},
   "outputs": [],
   "source": [
    "from statsmodels.tsa.stattools import adfuller\n",
    "\n",
    "def adf_test(series,title=''):\n",
    "    \"\"\"\n",
    "    Pass in a time series and an optional title, returns an ADF report\n",
    "    \"\"\"\n",
    "    print(f'Augmented Dickey-Fuller Test: {title}')\n",
    "    result = adfuller(series.dropna(),autolag='AIC') # .dropna() handles differenced data\n",
    "    \n",
    "    labels = ['ADF test statistic','p-value','# lags used','# observations']\n",
    "    out = pd.Series(result[0:4],index=labels)\n",
    "\n",
    "    for key,val in result[4].items():\n",
    "        out[f'critical value ({key})']=val\n",
    "        \n",
    "    print(out.to_string())          # .to_string() removes the line \"dtype: float64\"\n",
    "    \n",
    "    if result[1] <= 0.05:\n",
    "        print(\"Strong evidence against the null hypothesis\")\n",
    "        print(\"Reject the null hypothesis\")\n",
    "        print(\"Data has no unit root and is stationary\")\n",
    "    else:\n",
    "        print(\"Weak evidence against the null hypothesis\")\n",
    "        print(\"Fail to reject the null hypothesis\")\n",
    "        print(\"Data has a unit root and is non-stationary\")"
   ]
  },
  {
   "cell_type": "code",
   "execution_count": 2,
   "metadata": {},
   "outputs": [],
   "source": [
    "import pandas as pd\n",
    "import numpy as np\n",
    "import datetime\n",
    "import seaborn as sns\n",
    "%matplotlib inline\n",
    "\n",
    "# Load specific forecasting tools\n",
    "from statsmodels.tsa.statespace.sarimax import SARIMAX\n",
    "\n",
    "from statsmodels.graphics.tsaplots import plot_acf,plot_pacf # for determining (p,q) orders\n",
    "from statsmodels.tsa.seasonal import seasonal_decompose      # for ETS Plots\n",
    "from pmdarima import auto_arima                              # for determining ARIMA orders\n",
    "from pandas_datareader import data, wb\n",
    "from pandas_datareader import data, wb\n",
    "\n",
    "# Ignore harmless warnings\n",
    "import warnings\n",
    "warnings.filterwarnings(\"ignore\")\n",
    "\n",
    "\n"
   ]
  },
  {
   "cell_type": "code",
   "execution_count": 3,
   "metadata": {},
   "outputs": [
    {
     "name": "stdout",
     "output_type": "stream",
     "text": [
      "Some Data\n"
     ]
    }
   ],
   "source": [
    "name = input()"
   ]
  },
  {
   "cell_type": "code",
   "execution_count": 4,
   "metadata": {},
   "outputs": [
    {
     "name": "stdout",
     "output_type": "stream",
     "text": [
      "dsvb\n"
     ]
    }
   ],
   "source": [
    "file_id = input()"
   ]
  },
  {
   "cell_type": "code",
   "execution_count": 5,
   "metadata": {},
   "outputs": [],
   "source": [
    "# year month day\n",
    "\n",
    "start = datetime.datetime(2019, 1, 9)\n",
    "end = datetime.datetime(2020, 4, 12)"
   ]
  },
  {
   "cell_type": "code",
   "execution_count": 6,
   "metadata": {},
   "outputs": [],
   "source": [
    "# https://uk.finance.yahoo.com/most-active"
   ]
  },
  {
   "cell_type": "code",
   "execution_count": 7,
   "metadata": {},
   "outputs": [],
   "source": [
    "# DATA = data.DataReader(\"WALMEX.MX\", 'yahoo', start, end)\n",
    "# DATA = data.DataReader(\"AMZN\", 'yahoo', start, end)\n",
    "DATA = data.DataReader(\"BTC-USD\", 'yahoo', start, end)\n",
    "# DATA = data.DataReader(\"DIS\", 'yahoo', start, end)#disney\n",
    "# DATA = data.DataReader(\"GOLD\", 'yahoo', start, end)#Gold\n",
    "# DATA = data.DataReader(\"LLOY.L\", 'yahoo', start, end)#Lloyds\n",
    "# DATA = data.DataReader(\"NFLX\", 'yahoo', start, end)#netflix\n",
    "# DATA = data.DataReader(\"MSFT\", 'yahoo', start, end)#microsoft\n",
    "# DATA = data.DataReader(\"GOOG\", 'yahoo', start, end)#google\n",
    "# DATA = data.DataReader(\"JPM\", 'yahoo', start, end)#JPM\n",
    "# DATA = data.DataReader(\"ICON.L\", 'yahoo', start, end)#Iconic Lads\n",
    "# DATA = data.DataReader(\"88E.L\", 'yahoo', start, end)#88E\n",
    "# DATA = data.DataReader(\"ASC.L\", 'yahoo', start, end)#IASOS - USING #####################################<<<<<<\n",
    "# DATA = data.DataReader(\"WTB.L\", 'yahoo', start, end)#Whitbread\n",
    "# DATA = data.DataReader(\"OXB.L\", 'yahoo', start, end)#Oxford_biomedica - not on etoro\n",
    "# DATA = data.DataReader(\"SSE.L\", 'yahoo', start, end)#SSE plc\n",
    "# DATA = data.DataReader(\"NCYT.L\", 'yahoo', start, end)#Novacyt S.A\n",
    "# DATA = data.DataReader(\"GAW.L\", 'yahoo', start, end)#GAMES WORKSHOP - USING #####################################<<<<<<\n",
    "# DATA = data.DataReader(\"AVV.L\", 'yahoo', start, end)#AVEVA GROUP \n",
    "# DATA = data.DataReader(\"SMWH.L\", 'yahoo', start, end)#WH SMITH - USING #####################################<<<<<<\n",
    "# DATA = data.DataReader(\"OTB.L\", 'yahoo', start, end)#ON THE BEACH GROUP - \n",
    "# DATA = data.DataReader(\"SBRY.L\", 'yahoo', start, end)#SAINSBURY - \n",
    "# DATA = data.DataReader(\"BA.L\", 'yahoo', start, end)#BAE_SYS - \n",
    "# DATA = data.DataReader(\"RR.L\", 'yahoo', start, end)#ROLLS_ROYCE - \n",
    "# DATA = data.DataReader(\"VMUK.L\", 'yahoo', start, end)#VIRGIN MONEY - \n",
    "# DATA = data.DataReader(\"NXT.L\", 'yahoo', start, end)#next -\n",
    "# DATA = data.DataReader(\"WMT\", 'yahoo', start, end)#next -\n",
    "# DATA = data.DataReader(\"MDT\", 'yahoo', start, end)#medtronic-\n",
    "# DATA = data.DataReader(\"AZN.L\", 'yahoo', start, end)#astrazenica-\n",
    "# DATA = data.DataReader(\"^GSPC\", 'yahoo', start, end)#spx500\n",
    "\n",
    "\n",
    "# Corona Pharma\n",
    "# DATA = data.DataReader(\"JNJ\", 'yahoo', start, end)#J&J\n",
    "# DATA = data.DataReader(\"PFE\", 'yahoo', start, end)#Pfizer Inc.\n",
    "# DATA = data.DataReader(\"ABBV\", 'yahoo', start, end)#AbbVie Inc.\n",
    "# DATA = data.DataReader(\"SNY\", 'yahoo', start, end)#Sanofi\n",
    "# DATA = data.DataReader(\"GSK\", 'yahoo', start, end)#GlaxoSmithKline plc\n",
    "# DATA = data.DataReader(\"GILD\", 'yahoo', start, end)#Gilead Sciences, Inc.\n",
    "# DATA = data.DataReader(\"REGN\", 'yahoo', start, end)#Regeneron Pharmaceuticals, Inc.\n",
    "# DATA = data.DataReader(\"TAK\", 'yahoo', start, end)#Takeda Pharmaceutical Company Limited\n",
    "# DATA = data.DataReader(\"BNTX\", 'yahoo', start, end)#BioNTech SE\n",
    "# DATA = data.DataReader(\"MRNA\", 'yahoo', start, end)#Moderna, Inc.\n",
    "# DATA = data.DataReader(\"VIR\", 'yahoo', start, end)#Vir Biotechnology, Inc.\n",
    "# DATA = data.DataReader(\"INO\", 'yahoo', start, end)#Inovio Pharmaceuticals, Inc.\n",
    "# DATA = data.DataReader(\"NVAX\", 'yahoo', start, end)#Novav\n",
    "\n",
    "\n",
    "# DATA = data.DataReader(\"UNM\", 'yahoo', start, end)#Unum Group American insurance for health \n",
    "# DATA = data.DataReader(\"SYF\", 'yahoo', start, end)#Synchrony Financial SYF \n",
    "# DATA = data.DataReader(\"DFS\", 'yahoo', start, end)#Discover Financial Services\n",
    "\n",
    "# Assurant Inc. (AIZ)\n",
    "# Progressive Corp. (PGR)\n",
    "# Chubb Ltd. (CB)\n",
    "\n",
    "\n",
    "# MSCI Inc. (MSCI) \n",
    "# MarketAxess Holdings Inc. (MKTX)\n",
    "# The Western Union Co (WU)\n",
    "# S&P 500\n",
    "# Financial Select Sector SPDR Fund (XLF)"
   ]
  },
  {
   "cell_type": "code",
   "execution_count": 8,
   "metadata": {},
   "outputs": [
    {
     "data": {
      "text/html": [
       "<div>\n",
       "<style scoped>\n",
       "    .dataframe tbody tr th:only-of-type {\n",
       "        vertical-align: middle;\n",
       "    }\n",
       "\n",
       "    .dataframe tbody tr th {\n",
       "        vertical-align: top;\n",
       "    }\n",
       "\n",
       "    .dataframe thead th {\n",
       "        text-align: right;\n",
       "    }\n",
       "</style>\n",
       "<table border=\"1\" class=\"dataframe\">\n",
       "  <thead>\n",
       "    <tr style=\"text-align: right;\">\n",
       "      <th></th>\n",
       "      <th>High</th>\n",
       "      <th>Low</th>\n",
       "      <th>Open</th>\n",
       "      <th>Close</th>\n",
       "      <th>Volume</th>\n",
       "      <th>Adj Close</th>\n",
       "    </tr>\n",
       "    <tr>\n",
       "      <th>Date</th>\n",
       "      <th></th>\n",
       "      <th></th>\n",
       "      <th></th>\n",
       "      <th></th>\n",
       "      <th></th>\n",
       "      <th></th>\n",
       "    </tr>\n",
       "  </thead>\n",
       "  <tbody>\n",
       "    <tr>\n",
       "      <td>2019-01-09</td>\n",
       "      <td>4068.403564</td>\n",
       "      <td>4022.662842</td>\n",
       "      <td>4031.552002</td>\n",
       "      <td>4035.296387</td>\n",
       "      <td>5.115905e+09</td>\n",
       "      <td>4035.296387</td>\n",
       "    </tr>\n",
       "    <tr>\n",
       "      <td>2019-01-10</td>\n",
       "      <td>4064.066650</td>\n",
       "      <td>3659.174561</td>\n",
       "      <td>4034.411377</td>\n",
       "      <td>3678.924561</td>\n",
       "      <td>6.874144e+09</td>\n",
       "      <td>3678.924561</td>\n",
       "    </tr>\n",
       "    <tr>\n",
       "      <td>2019-01-11</td>\n",
       "      <td>3713.881836</td>\n",
       "      <td>3653.069824</td>\n",
       "      <td>3674.015381</td>\n",
       "      <td>3687.365479</td>\n",
       "      <td>5.538713e+09</td>\n",
       "      <td>3687.365479</td>\n",
       "    </tr>\n",
       "    <tr>\n",
       "      <td>2019-01-12</td>\n",
       "      <td>3698.978271</td>\n",
       "      <td>3653.810791</td>\n",
       "      <td>3686.973145</td>\n",
       "      <td>3661.301025</td>\n",
       "      <td>4.778171e+09</td>\n",
       "      <td>3661.301025</td>\n",
       "    </tr>\n",
       "    <tr>\n",
       "      <td>2019-01-13</td>\n",
       "      <td>3674.760010</td>\n",
       "      <td>3544.927246</td>\n",
       "      <td>3658.868164</td>\n",
       "      <td>3552.953125</td>\n",
       "      <td>4.681302e+09</td>\n",
       "      <td>3552.953125</td>\n",
       "    </tr>\n",
       "    <tr>\n",
       "      <td>...</td>\n",
       "      <td>...</td>\n",
       "      <td>...</td>\n",
       "      <td>...</td>\n",
       "      <td>...</td>\n",
       "      <td>...</td>\n",
       "      <td>...</td>\n",
       "    </tr>\n",
       "    <tr>\n",
       "      <td>2020-04-05</td>\n",
       "      <td>7271.781250</td>\n",
       "      <td>6782.889648</td>\n",
       "      <td>6788.049805</td>\n",
       "      <td>7271.781250</td>\n",
       "      <td>4.689690e+10</td>\n",
       "      <td>7271.781250</td>\n",
       "    </tr>\n",
       "    <tr>\n",
       "      <td>2020-04-06</td>\n",
       "      <td>7427.939453</td>\n",
       "      <td>7136.714355</td>\n",
       "      <td>7273.644043</td>\n",
       "      <td>7176.414551</td>\n",
       "      <td>4.424348e+10</td>\n",
       "      <td>7176.414551</td>\n",
       "    </tr>\n",
       "    <tr>\n",
       "      <td>2020-04-07</td>\n",
       "      <td>7356.223633</td>\n",
       "      <td>7153.305664</td>\n",
       "      <td>7179.283203</td>\n",
       "      <td>7334.098633</td>\n",
       "      <td>3.756325e+10</td>\n",
       "      <td>7334.098633</td>\n",
       "    </tr>\n",
       "    <tr>\n",
       "      <td>2020-04-08</td>\n",
       "      <td>7341.448242</td>\n",
       "      <td>7179.094238</td>\n",
       "      <td>7337.966309</td>\n",
       "      <td>7302.089355</td>\n",
       "      <td>3.481514e+10</td>\n",
       "      <td>7302.089355</td>\n",
       "    </tr>\n",
       "    <tr>\n",
       "      <td>2020-04-12</td>\n",
       "      <td>7092.936035</td>\n",
       "      <td>6811.078125</td>\n",
       "      <td>6859.291016</td>\n",
       "      <td>7039.561035</td>\n",
       "      <td>3.446073e+10</td>\n",
       "      <td>7039.561035</td>\n",
       "    </tr>\n",
       "  </tbody>\n",
       "</table>\n",
       "<p>458 rows × 6 columns</p>\n",
       "</div>"
      ],
      "text/plain": [
       "                   High          Low         Open        Close        Volume  \\\n",
       "Date                                                                           \n",
       "2019-01-09  4068.403564  4022.662842  4031.552002  4035.296387  5.115905e+09   \n",
       "2019-01-10  4064.066650  3659.174561  4034.411377  3678.924561  6.874144e+09   \n",
       "2019-01-11  3713.881836  3653.069824  3674.015381  3687.365479  5.538713e+09   \n",
       "2019-01-12  3698.978271  3653.810791  3686.973145  3661.301025  4.778171e+09   \n",
       "2019-01-13  3674.760010  3544.927246  3658.868164  3552.953125  4.681302e+09   \n",
       "...                 ...          ...          ...          ...           ...   \n",
       "2020-04-05  7271.781250  6782.889648  6788.049805  7271.781250  4.689690e+10   \n",
       "2020-04-06  7427.939453  7136.714355  7273.644043  7176.414551  4.424348e+10   \n",
       "2020-04-07  7356.223633  7153.305664  7179.283203  7334.098633  3.756325e+10   \n",
       "2020-04-08  7341.448242  7179.094238  7337.966309  7302.089355  3.481514e+10   \n",
       "2020-04-12  7092.936035  6811.078125  6859.291016  7039.561035  3.446073e+10   \n",
       "\n",
       "              Adj Close  \n",
       "Date                     \n",
       "2019-01-09  4035.296387  \n",
       "2019-01-10  3678.924561  \n",
       "2019-01-11  3687.365479  \n",
       "2019-01-12  3661.301025  \n",
       "2019-01-13  3552.953125  \n",
       "...                 ...  \n",
       "2020-04-05  7271.781250  \n",
       "2020-04-06  7176.414551  \n",
       "2020-04-07  7334.098633  \n",
       "2020-04-08  7302.089355  \n",
       "2020-04-12  7039.561035  \n",
       "\n",
       "[458 rows x 6 columns]"
      ]
     },
     "execution_count": 8,
     "metadata": {},
     "output_type": "execute_result"
    }
   ],
   "source": [
    "DATA"
   ]
  },
  {
   "cell_type": "code",
   "execution_count": null,
   "metadata": {},
   "outputs": [],
   "source": []
  },
  {
   "cell_type": "code",
   "execution_count": 9,
   "metadata": {},
   "outputs": [],
   "source": [
    "DATA.to_csv('My_Data/yahoo_data_{}{}.csv'.format(name,file_id))\n",
    "df = pd.read_csv('My_Data/yahoo_data_{}{}.csv'.format(name,file_id),index_col='Date',parse_dates=True)\n",
    "# df2.index.freq='MS'\n",
    "# df2 = df2[4400:]  # we only want the first four months\n",
    "\n",
    "# df2.asfreq(freq='C')\n",
    "df = df.resample(rule='D').mean()\n",
    "df = df.fillna(method='ffill')"
   ]
  },
  {
   "cell_type": "code",
   "execution_count": 10,
   "metadata": {},
   "outputs": [
    {
     "data": {
      "text/html": [
       "<div>\n",
       "<style scoped>\n",
       "    .dataframe tbody tr th:only-of-type {\n",
       "        vertical-align: middle;\n",
       "    }\n",
       "\n",
       "    .dataframe tbody tr th {\n",
       "        vertical-align: top;\n",
       "    }\n",
       "\n",
       "    .dataframe thead th {\n",
       "        text-align: right;\n",
       "    }\n",
       "</style>\n",
       "<table border=\"1\" class=\"dataframe\">\n",
       "  <thead>\n",
       "    <tr style=\"text-align: right;\">\n",
       "      <th></th>\n",
       "      <th>High</th>\n",
       "      <th>Low</th>\n",
       "      <th>Open</th>\n",
       "      <th>Close</th>\n",
       "      <th>Volume</th>\n",
       "      <th>Adj Close</th>\n",
       "    </tr>\n",
       "  </thead>\n",
       "  <tbody>\n",
       "    <tr>\n",
       "      <td>count</td>\n",
       "      <td>460.000000</td>\n",
       "      <td>460.000000</td>\n",
       "      <td>460.000000</td>\n",
       "      <td>460.000000</td>\n",
       "      <td>4.600000e+02</td>\n",
       "      <td>460.000000</td>\n",
       "    </tr>\n",
       "    <tr>\n",
       "      <td>mean</td>\n",
       "      <td>7795.515106</td>\n",
       "      <td>7452.726675</td>\n",
       "      <td>7625.134399</td>\n",
       "      <td>7633.113141</td>\n",
       "      <td>2.142491e+10</td>\n",
       "      <td>7633.113141</td>\n",
       "    </tr>\n",
       "    <tr>\n",
       "      <td>std</td>\n",
       "      <td>2483.122008</td>\n",
       "      <td>2332.119545</td>\n",
       "      <td>2415.373969</td>\n",
       "      <td>2410.643961</td>\n",
       "      <td>1.127758e+10</td>\n",
       "      <td>2410.643961</td>\n",
       "    </tr>\n",
       "    <tr>\n",
       "      <td>min</td>\n",
       "      <td>3427.945557</td>\n",
       "      <td>3391.023682</td>\n",
       "      <td>3401.376465</td>\n",
       "      <td>3399.471680</td>\n",
       "      <td>4.681302e+09</td>\n",
       "      <td>3399.471680</td>\n",
       "    </tr>\n",
       "    <tr>\n",
       "      <td>25%</td>\n",
       "      <td>5631.658325</td>\n",
       "      <td>5274.542480</td>\n",
       "      <td>5395.831665</td>\n",
       "      <td>5401.864258</td>\n",
       "      <td>1.379623e+10</td>\n",
       "      <td>5401.864258</td>\n",
       "    </tr>\n",
       "    <tr>\n",
       "      <td>50%</td>\n",
       "      <td>8197.218262</td>\n",
       "      <td>7842.871826</td>\n",
       "      <td>8035.018311</td>\n",
       "      <td>8040.744385</td>\n",
       "      <td>1.906743e+10</td>\n",
       "      <td>8040.744385</td>\n",
       "    </tr>\n",
       "    <tr>\n",
       "      <td>75%</td>\n",
       "      <td>9685.794189</td>\n",
       "      <td>9278.356201</td>\n",
       "      <td>9509.946289</td>\n",
       "      <td>9512.436523</td>\n",
       "      <td>2.786130e+10</td>\n",
       "      <td>9512.436523</td>\n",
       "    </tr>\n",
       "    <tr>\n",
       "      <td>max</td>\n",
       "      <td>13796.489258</td>\n",
       "      <td>12233.261719</td>\n",
       "      <td>13017.125000</td>\n",
       "      <td>13016.231445</td>\n",
       "      <td>7.415677e+10</td>\n",
       "      <td>13016.231445</td>\n",
       "    </tr>\n",
       "  </tbody>\n",
       "</table>\n",
       "</div>"
      ],
      "text/plain": [
       "               High           Low          Open         Close        Volume  \\\n",
       "count    460.000000    460.000000    460.000000    460.000000  4.600000e+02   \n",
       "mean    7795.515106   7452.726675   7625.134399   7633.113141  2.142491e+10   \n",
       "std     2483.122008   2332.119545   2415.373969   2410.643961  1.127758e+10   \n",
       "min     3427.945557   3391.023682   3401.376465   3399.471680  4.681302e+09   \n",
       "25%     5631.658325   5274.542480   5395.831665   5401.864258  1.379623e+10   \n",
       "50%     8197.218262   7842.871826   8035.018311   8040.744385  1.906743e+10   \n",
       "75%     9685.794189   9278.356201   9509.946289   9512.436523  2.786130e+10   \n",
       "max    13796.489258  12233.261719  13017.125000  13016.231445  7.415677e+10   \n",
       "\n",
       "          Adj Close  \n",
       "count    460.000000  \n",
       "mean    7633.113141  \n",
       "std     2410.643961  \n",
       "min     3399.471680  \n",
       "25%     5401.864258  \n",
       "50%     8040.744385  \n",
       "75%     9512.436523  \n",
       "max    13016.231445  "
      ]
     },
     "execution_count": 10,
     "metadata": {},
     "output_type": "execute_result"
    }
   ],
   "source": [
    "df.describe()"
   ]
  },
  {
   "cell_type": "code",
   "execution_count": 11,
   "metadata": {},
   "outputs": [
    {
     "name": "stdout",
     "output_type": "stream",
     "text": [
      "<class 'pandas.core.frame.DataFrame'>\n",
      "DatetimeIndex: 460 entries, 2019-01-09 to 2020-04-12\n",
      "Freq: D\n",
      "Data columns (total 6 columns):\n",
      "High         460 non-null float64\n",
      "Low          460 non-null float64\n",
      "Open         460 non-null float64\n",
      "Close        460 non-null float64\n",
      "Volume       460 non-null float64\n",
      "Adj Close    460 non-null float64\n",
      "dtypes: float64(6)\n",
      "memory usage: 25.2 KB\n"
     ]
    }
   ],
   "source": [
    "df.info()"
   ]
  },
  {
   "cell_type": "code",
   "execution_count": 12,
   "metadata": {},
   "outputs": [
    {
     "name": "stdout",
     "output_type": "stream",
     "text": [
      "Augmented Dickey-Fuller Test: Checked Data\n",
      "ADF test statistic       -1.850181\n",
      "p-value                   0.355848\n",
      "# lags used               1.000000\n",
      "# observations          458.000000\n",
      "critical value (1%)      -3.444709\n",
      "critical value (5%)      -2.867871\n",
      "critical value (10%)     -2.570142\n",
      "Weak evidence against the null hypothesis\n",
      "Fail to reject the null hypothesis\n",
      "Data has a unit root and is non-stationary\n"
     ]
    }
   ],
   "source": [
    "# Check If stationary function at top!\n",
    "adf_test(df['Close'],title='Checked Data')"
   ]
  },
  {
   "cell_type": "code",
   "execution_count": 13,
   "metadata": {},
   "outputs": [],
   "source": [
    "# CHECK CAUSALITY with other data if required\n",
    "# The function takes in a 2D array [y,x] and a maximum number of lags to test on x. Here our y is column 'a' and x is column 'd'. We'll set maxlags to 3.\n",
    "\n",
    "# grangercausalitytests(df3[['a','d']],maxlag=3);"
   ]
  },
  {
   "cell_type": "code",
   "execution_count": 14,
   "metadata": {},
   "outputs": [],
   "source": [
    "# Check Sesonality"
   ]
  },
  {
   "cell_type": "code",
   "execution_count": 15,
   "metadata": {},
   "outputs": [],
   "source": [
    "# from statsmodels.graphics.tsaplots import month_plot,quarter_plot\n",
    "\n",
    "# Note: add a semicolon to prevent two plots being displayed in jupyter\n",
    "# dfq = df['Close'].resample(rule='Q').mean()\n",
    "\n",
    "# quarter_plot(dfq);"
   ]
  },
  {
   "cell_type": "markdown",
   "metadata": {},
   "source": [
    "# Data Plot"
   ]
  },
  {
   "cell_type": "code",
   "execution_count": 16,
   "metadata": {},
   "outputs": [
    {
     "data": {
      "image/png": "[encoded data removed]",
      "text/plain": [
       "<Figure size 864x432 with 1 Axes>"
      ]
     },
     "metadata": {
      "needs_background": "light"
     },
     "output_type": "display_data"
    }
   ],
   "source": [
    "title = 'Data'\n",
    "ylabel='Price'\n",
    "xlabel='' \n",
    "\n",
    "ax = df['Close'].plot(figsize=(12,6),title=title)\n",
    "ax.autoscale(axis='x',tight=True)\n",
    "ax.set(xlabel=xlabel, ylabel=ylabel);"
   ]
  },
  {
   "cell_type": "markdown",
   "metadata": {},
   "source": [
    "### ETS Decomposition"
   ]
  },
  {
   "cell_type": "code",
   "execution_count": 17,
   "metadata": {},
   "outputs": [
    {
     "data": {
      "text/plain": [
       "<Figure size 432x288 with 0 Axes>"
      ]
     },
     "metadata": {},
     "output_type": "display_data"
    },
    {
     "data": {
      "image/png": "[encoded data removed]",
      "text/plain": [
       "<Figure size 1080x864 with 4 Axes>"
      ]
     },
     "metadata": {
      "needs_background": "light"
     },
     "output_type": "display_data"
    }
   ],
   "source": [
    "from statsmodels.tsa.seasonal import seasonal_decompose\n",
    "import matplotlib.pyplot as plt  # Matlab-style plotting\n",
    "\n",
    "result = seasonal_decompose(df['Close'], model='add')\n",
    "\n",
    "fig = plt.figure()  \n",
    "fig = result.plot()  \n",
    "fig.set_size_inches(15, 12)"
   ]
  },
  {
   "cell_type": "code",
   "execution_count": 18,
   "metadata": {},
   "outputs": [
    {
     "name": "stdout",
     "output_type": "stream",
     "text": [
      "Performing stepwise search to minimize aic\n",
      "Fit ARIMA: (2, 1, 2)x(1, 0, 1, 7) (constant=True); AIC=6651.531, BIC=6684.564, Time=1.045 seconds\n",
      "Fit ARIMA: (0, 1, 0)x(0, 0, 0, 7) (constant=True); AIC=6650.699, BIC=6658.957, Time=0.010 seconds\n",
      "Fit ARIMA: (1, 1, 0)x(1, 0, 0, 7) (constant=True); AIC=6650.465, BIC=6666.981, Time=0.057 seconds\n",
      "Fit ARIMA: (0, 1, 1)x(0, 0, 1, 7) (constant=True); AIC=6650.669, BIC=6667.186, Time=0.054 seconds\n",
      "Fit ARIMA: (0, 1, 0)x(0, 0, 0, 7) (constant=False); AIC=6648.872, BIC=6653.002, Time=0.006 seconds\n",
      "Fit ARIMA: (0, 1, 0)x(1, 0, 0, 7) (constant=True); AIC=6652.629, BIC=6665.016, Time=0.031 seconds\n",
      "Fit ARIMA: (0, 1, 0)x(0, 0, 1, 7) (constant=True); AIC=6652.634, BIC=6665.022, Time=0.038 seconds\n",
      "Fit ARIMA: (0, 1, 0)x(1, 0, 1, 7) (constant=True); AIC=6652.200, BIC=6668.716, Time=0.351 seconds\n",
      "Fit ARIMA: (1, 1, 0)x(0, 0, 0, 7) (constant=True); AIC=6648.666, BIC=6661.053, Time=0.021 seconds\n",
      "Fit ARIMA: (1, 1, 0)x(0, 0, 1, 7) (constant=True); AIC=6650.481, BIC=6666.997, Time=0.051 seconds\n",
      "Fit ARIMA: (1, 1, 0)x(1, 0, 1, 7) (constant=True); AIC=6649.116, BIC=6669.761, Time=0.250 seconds\n",
      "Fit ARIMA: (2, 1, 0)x(0, 0, 0, 7) (constant=True); AIC=6650.555, BIC=6667.071, Time=0.028 seconds\n",
      "Fit ARIMA: (1, 1, 1)x(0, 0, 0, 7) (constant=True); AIC=6650.588, BIC=6667.104, Time=0.108 seconds\n",
      "Fit ARIMA: (0, 1, 1)x(0, 0, 0, 7) (constant=True); AIC=6648.857, BIC=6661.244, Time=0.030 seconds\n",
      "Fit ARIMA: (2, 1, 1)x(0, 0, 0, 7) (constant=True); AIC=6652.088, BIC=6672.734, Time=0.223 seconds\n",
      "Total fit time: 2.317 seconds\n"
     ]
    },
    {
     "data": {
      "text/html": [
       "<table class=\"simpletable\">\n",
       "<caption>SARIMAX Results</caption>\n",
       "<tr>\n",
       "  <th>Dep. Variable:</th>           <td>y</td>        <th>  No. Observations:  </th>    <td>460</td>   \n",
       "</tr>\n",
       "<tr>\n",
       "  <th>Model:</th>           <td>SARIMAX(1, 1, 0)</td> <th>  Log Likelihood     </th> <td>-3321.333</td>\n",
       "</tr>\n",
       "<tr>\n",
       "  <th>Date:</th>            <td>Sun, 12 Apr 2020</td> <th>  AIC                </th> <td>6648.666</td> \n",
       "</tr>\n",
       "<tr>\n",
       "  <th>Time:</th>                <td>19:40:59</td>     <th>  BIC                </th> <td>6661.053</td> \n",
       "</tr>\n",
       "<tr>\n",
       "  <th>Sample:</th>                  <td>0</td>        <th>  HQIC               </th> <td>6653.544</td> \n",
       "</tr>\n",
       "<tr>\n",
       "  <th></th>                      <td> - 460</td>      <th>                     </th>     <td> </td>    \n",
       "</tr>\n",
       "<tr>\n",
       "  <th>Covariance Type:</th>        <td>opg</td>       <th>                     </th>     <td> </td>    \n",
       "</tr>\n",
       "</table>\n",
       "<table class=\"simpletable\">\n",
       "<tr>\n",
       "      <td></td>         <th>coef</th>     <th>std err</th>      <th>z</th>      <th>P>|z|</th>  <th>[0.025</th>    <th>0.975]</th>  \n",
       "</tr>\n",
       "<tr>\n",
       "  <th>intercept</th> <td>    7.9860</td> <td>   16.926</td> <td>    0.472</td> <td> 0.637</td> <td>  -25.189</td> <td>   41.161</td>\n",
       "</tr>\n",
       "<tr>\n",
       "  <th>ar.L1</th>     <td>   -0.0935</td> <td>    0.029</td> <td>   -3.243</td> <td> 0.001</td> <td>   -0.150</td> <td>   -0.037</td>\n",
       "</tr>\n",
       "<tr>\n",
       "  <th>sigma2</th>    <td> 1.129e+05</td> <td> 2674.748</td> <td>   42.211</td> <td> 0.000</td> <td> 1.08e+05</td> <td> 1.18e+05</td>\n",
       "</tr>\n",
       "</table>\n",
       "<table class=\"simpletable\">\n",
       "<tr>\n",
       "  <th>Ljung-Box (Q):</th>          <td>45.39</td> <th>  Jarque-Bera (JB):  </th> <td>5145.56</td>\n",
       "</tr>\n",
       "<tr>\n",
       "  <th>Prob(Q):</th>                <td>0.26</td>  <th>  Prob(JB):          </th>  <td>0.00</td>  \n",
       "</tr>\n",
       "<tr>\n",
       "  <th>Heteroskedasticity (H):</th> <td>2.88</td>  <th>  Skew:              </th>  <td>-1.57</td> \n",
       "</tr>\n",
       "<tr>\n",
       "  <th>Prob(H) (two-sided):</th>    <td>0.00</td>  <th>  Kurtosis:          </th>  <td>19.10</td> \n",
       "</tr>\n",
       "</table><br/><br/>Warnings:<br/>[1] Covariance matrix calculated using the outer product of gradients (complex-step)."
      ],
      "text/plain": [
       "<class 'statsmodels.iolib.summary.Summary'>\n",
       "\"\"\"\n",
       "                               SARIMAX Results                                \n",
       "==============================================================================\n",
       "Dep. Variable:                      y   No. Observations:                  460\n",
       "Model:               SARIMAX(1, 1, 0)   Log Likelihood               -3321.333\n",
       "Date:                Sun, 12 Apr 2020   AIC                           6648.666\n",
       "Time:                        19:40:59   BIC                           6661.053\n",
       "Sample:                             0   HQIC                          6653.544\n",
       "                                - 460                                         \n",
       "Covariance Type:                  opg                                         \n",
       "==============================================================================\n",
       "                 coef    std err          z      P>|z|      [0.025      0.975]\n",
       "------------------------------------------------------------------------------\n",
       "intercept      7.9860     16.926      0.472      0.637     -25.189      41.161\n",
       "ar.L1         -0.0935      0.029     -3.243      0.001      -0.150      -0.037\n",
       "sigma2      1.129e+05   2674.748     42.211      0.000    1.08e+05    1.18e+05\n",
       "===================================================================================\n",
       "Ljung-Box (Q):                       45.39   Jarque-Bera (JB):              5145.56\n",
       "Prob(Q):                              0.26   Prob(JB):                         0.00\n",
       "Heteroskedasticity (H):               2.88   Skew:                            -1.57\n",
       "Prob(H) (two-sided):                  0.00   Kurtosis:                        19.10\n",
       "===================================================================================\n",
       "\n",
       "Warnings:\n",
       "[1] Covariance matrix calculated using the outer product of gradients (complex-step).\n",
       "\"\"\""
      ]
     },
     "execution_count": 18,
     "metadata": {},
     "output_type": "execute_result"
    }
   ],
   "source": [
    "# For SARIMA Orders we set seasonal=True and pass in an m value\n",
    "\n",
    "auto_arima(df['Close'],seasonal=True,m=7,trace=True).summary() \n",
    "# help(auto_arima)"
   ]
  },
  {
   "cell_type": "code",
   "execution_count": 19,
   "metadata": {},
   "outputs": [
    {
     "data": {
      "text/plain": [
       "460"
      ]
     },
     "execution_count": 19,
     "metadata": {},
     "output_type": "execute_result"
    }
   ],
   "source": [
    "len(df)"
   ]
  },
  {
   "cell_type": "code",
   "execution_count": 20,
   "metadata": {},
   "outputs": [],
   "source": [
    "# Set one year for testing\n",
    "train = df.iloc[:450]\n",
    "test = df.iloc[450:]"
   ]
  },
  {
   "cell_type": "markdown",
   "metadata": {},
   "source": [
    "### Fit a SARIMA Model"
   ]
  },
  {
   "cell_type": "code",
   "execution_count": 21,
   "metadata": {},
   "outputs": [
    {
     "data": {
      "text/html": [
       "<table class=\"simpletable\">\n",
       "<caption>SARIMAX Results</caption>\n",
       "<tr>\n",
       "  <th>Dep. Variable:</th>               <td>Close</td>             <th>  No. Observations:  </th>    <td>450</td>   \n",
       "</tr>\n",
       "<tr>\n",
       "  <th>Model:</th>           <td>SARIMAX(1, 1, 0)x(0, 1, 0, 7)</td> <th>  Log Likelihood     </th> <td>-3360.913</td>\n",
       "</tr>\n",
       "<tr>\n",
       "  <th>Date:</th>                  <td>Sun, 12 Apr 2020</td>        <th>  AIC                </th> <td>6725.826</td> \n",
       "</tr>\n",
       "<tr>\n",
       "  <th>Time:</th>                      <td>19:40:59</td>            <th>  BIC                </th> <td>6734.009</td> \n",
       "</tr>\n",
       "<tr>\n",
       "  <th>Sample:</th>                   <td>01-09-2019</td>           <th>  HQIC               </th> <td>6729.054</td> \n",
       "</tr>\n",
       "<tr>\n",
       "  <th></th>                         <td>- 04-02-2020</td>          <th>                     </th>     <td> </td>    \n",
       "</tr>\n",
       "<tr>\n",
       "  <th>Covariance Type:</th>              <td>opg</td>              <th>                     </th>     <td> </td>    \n",
       "</tr>\n",
       "</table>\n",
       "<table class=\"simpletable\">\n",
       "<tr>\n",
       "     <td></td>       <th>coef</th>     <th>std err</th>      <th>z</th>      <th>P>|z|</th>  <th>[0.025</th>    <th>0.975]</th>  \n",
       "</tr>\n",
       "<tr>\n",
       "  <th>ar.L1</th>  <td>   -0.0463</td> <td>    0.040</td> <td>   -1.154</td> <td> 0.249</td> <td>   -0.125</td> <td>    0.032</td>\n",
       "</tr>\n",
       "<tr>\n",
       "  <th>sigma2</th> <td> 2.359e+05</td> <td> 5463.834</td> <td>   43.166</td> <td> 0.000</td> <td> 2.25e+05</td> <td> 2.47e+05</td>\n",
       "</tr>\n",
       "</table>\n",
       "<table class=\"simpletable\">\n",
       "<tr>\n",
       "  <th>Ljung-Box (Q):</th>          <td>185.08</td> <th>  Jarque-Bera (JB):  </th> <td>4091.86</td>\n",
       "</tr>\n",
       "<tr>\n",
       "  <th>Prob(Q):</th>                 <td>0.00</td>  <th>  Prob(JB):          </th>  <td>0.00</td>  \n",
       "</tr>\n",
       "<tr>\n",
       "  <th>Heteroskedasticity (H):</th>  <td>3.34</td>  <th>  Skew:              </th>  <td>0.24</td>  \n",
       "</tr>\n",
       "<tr>\n",
       "  <th>Prob(H) (two-sided):</th>     <td>0.00</td>  <th>  Kurtosis:          </th>  <td>17.90</td> \n",
       "</tr>\n",
       "</table><br/><br/>Warnings:<br/>[1] Covariance matrix calculated using the outer product of gradients (complex-step)."
      ],
      "text/plain": [
       "<class 'statsmodels.iolib.summary.Summary'>\n",
       "\"\"\"\n",
       "                                     SARIMAX Results                                     \n",
       "=========================================================================================\n",
       "Dep. Variable:                             Close   No. Observations:                  450\n",
       "Model:             SARIMAX(1, 1, 0)x(0, 1, 0, 7)   Log Likelihood               -3360.913\n",
       "Date:                           Sun, 12 Apr 2020   AIC                           6725.826\n",
       "Time:                                   19:40:59   BIC                           6734.009\n",
       "Sample:                               01-09-2019   HQIC                          6729.054\n",
       "                                    - 04-02-2020                                         \n",
       "Covariance Type:                             opg                                         \n",
       "==============================================================================\n",
       "                 coef    std err          z      P>|z|      [0.025      0.975]\n",
       "------------------------------------------------------------------------------\n",
       "ar.L1         -0.0463      0.040     -1.154      0.249      -0.125       0.032\n",
       "sigma2      2.359e+05   5463.834     43.166      0.000    2.25e+05    2.47e+05\n",
       "===================================================================================\n",
       "Ljung-Box (Q):                      185.08   Jarque-Bera (JB):              4091.86\n",
       "Prob(Q):                              0.00   Prob(JB):                         0.00\n",
       "Heteroskedasticity (H):               3.34   Skew:                             0.24\n",
       "Prob(H) (two-sided):                  0.00   Kurtosis:                        17.90\n",
       "===================================================================================\n",
       "\n",
       "Warnings:\n",
       "[1] Covariance matrix calculated using the outer product of gradients (complex-step).\n",
       "\"\"\""
      ]
     },
     "execution_count": 21,
     "metadata": {},
     "output_type": "execute_result"
    }
   ],
   "source": [
    "# model = SARIMAX(train['Close'],order=(1,1,0))\n",
    "model = SARIMAX(train['Close'],order=(1,1,0),seasonal_order=(0,1,0,7))\n",
    "\n",
    "results = model.fit()\n",
    "results.summary()"
   ]
  },
  {
   "cell_type": "code",
   "execution_count": 22,
   "metadata": {},
   "outputs": [],
   "source": [
    "# Obtain predicted values\n",
    "start=len(train)\n",
    "end=len(train)+len(test)-1\n",
    "\n",
    "\n",
    "\n",
    "#Run this a few times is it doesnt look right then change levels section\n",
    "predictions = results.predict(start=start, end=end, dynamic=False, typ='levels').rename('SARIMA Predictions')"
   ]
  },
  {
   "cell_type": "markdown",
   "metadata": {},
   "source": [
    "Passing <tt>dynamic=False</tt> means that forecasts at each point are generated using the full history up to that point (all lagged values).\n",
    "\n",
    "Passing <tt>typ='levels'</tt> predicts the levels of the original endogenous variables. If we'd used the default <tt>typ='linear'</tt> we would have seen linear predictions in terms of the differenced endogenous variables.\n",
    "\n",
    "For more information on these arguments visit https://www.statsmodels.org/stable/generated/statsmodels.tsa.arima_model.ARIMAResults.predict.html"
   ]
  },
  {
   "cell_type": "code",
   "execution_count": 23,
   "metadata": {},
   "outputs": [
    {
     "name": "stdout",
     "output_type": "stream",
     "text": [
      "predicted=6491.171083, expected=6867.52734375\n",
      "predicted=6263.361714, expected=6791.12939453125\n",
      "predicted=6197.119733, expected=7271.78125\n",
      "predicted=6459.821443, expected=7176.41455078125\n",
      "predicted=6627.953299, expected=7334.0986328125\n",
      "predicted=6814.801442, expected=7302.08935546875\n",
      "predicted=6754.564138, expected=7302.08935546875\n",
      "predicted=6512.348013, expected=7302.08935546875\n",
      "predicted=6284.538645, expected=7302.08935546875\n",
      "predicted=6218.296664, expected=7039.56103515625\n"
     ]
    }
   ],
   "source": [
    "# Compare predictions to expected values\n",
    "for i in range(len(predictions)):\n",
    "    print(f\"predicted={predictions[i]:<11.10}, expected={test['Close'][i]}\")"
   ]
  },
  {
   "cell_type": "code",
   "execution_count": 24,
   "metadata": {},
   "outputs": [
    {
     "data": {
      "image/png": "[encoded data removed]",
      "text/plain": [
       "<Figure size 864x432 with 1 Axes>"
      ]
     },
     "metadata": {
      "needs_background": "light"
     },
     "output_type": "display_data"
    }
   ],
   "source": [
    "# Plot predictions against known values\n",
    "title = 'Preds'\n",
    "ylabel='price'\n",
    "xlabel=''\n",
    "\n",
    "ax = test['Close'].plot(legend=True,figsize=(12,6),title=title)\n",
    "predictions.plot(legend=True)\n",
    "ax.autoscale(axis='x',tight=True)\n",
    "ax.set(xlabel=xlabel, ylabel=ylabel);"
   ]
  },
  {
   "cell_type": "markdown",
   "metadata": {},
   "source": [
    "### Evaluate the Model"
   ]
  },
  {
   "cell_type": "code",
   "execution_count": 25,
   "metadata": {},
   "outputs": [
    {
     "data": {
      "text/html": [
       "<div>\n",
       "<style scoped>\n",
       "    .dataframe tbody tr th:only-of-type {\n",
       "        vertical-align: middle;\n",
       "    }\n",
       "\n",
       "    .dataframe tbody tr th {\n",
       "        vertical-align: top;\n",
       "    }\n",
       "\n",
       "    .dataframe thead th {\n",
       "        text-align: right;\n",
       "    }\n",
       "</style>\n",
       "<table border=\"1\" class=\"dataframe\">\n",
       "  <thead>\n",
       "    <tr style=\"text-align: right;\">\n",
       "      <th></th>\n",
       "      <th>Close</th>\n",
       "      <th>SARIMA Predictions</th>\n",
       "      <th>Percent</th>\n",
       "    </tr>\n",
       "    <tr>\n",
       "      <th>Date</th>\n",
       "      <th></th>\n",
       "      <th></th>\n",
       "      <th></th>\n",
       "    </tr>\n",
       "  </thead>\n",
       "  <tbody>\n",
       "    <tr>\n",
       "      <td>2020-04-03</td>\n",
       "      <td>6867.527344</td>\n",
       "      <td>6491.171083</td>\n",
       "      <td>-5.480230</td>\n",
       "    </tr>\n",
       "    <tr>\n",
       "      <td>2020-04-04</td>\n",
       "      <td>6791.129395</td>\n",
       "      <td>6263.361714</td>\n",
       "      <td>-7.771427</td>\n",
       "    </tr>\n",
       "    <tr>\n",
       "      <td>2020-04-05</td>\n",
       "      <td>7271.781250</td>\n",
       "      <td>6197.119733</td>\n",
       "      <td>-14.778518</td>\n",
       "    </tr>\n",
       "    <tr>\n",
       "      <td>2020-04-06</td>\n",
       "      <td>7176.414551</td>\n",
       "      <td>6459.821443</td>\n",
       "      <td>-9.985392</td>\n",
       "    </tr>\n",
       "    <tr>\n",
       "      <td>2020-04-07</td>\n",
       "      <td>7334.098633</td>\n",
       "      <td>6627.953299</td>\n",
       "      <td>-9.628250</td>\n",
       "    </tr>\n",
       "    <tr>\n",
       "      <td>2020-04-08</td>\n",
       "      <td>7302.089355</td>\n",
       "      <td>6814.801442</td>\n",
       "      <td>-6.673267</td>\n",
       "    </tr>\n",
       "    <tr>\n",
       "      <td>2020-04-09</td>\n",
       "      <td>7302.089355</td>\n",
       "      <td>6754.564138</td>\n",
       "      <td>-7.498199</td>\n",
       "    </tr>\n",
       "    <tr>\n",
       "      <td>2020-04-10</td>\n",
       "      <td>7302.089355</td>\n",
       "      <td>6512.348013</td>\n",
       "      <td>-10.815279</td>\n",
       "    </tr>\n",
       "    <tr>\n",
       "      <td>2020-04-11</td>\n",
       "      <td>7302.089355</td>\n",
       "      <td>6284.538645</td>\n",
       "      <td>-13.935062</td>\n",
       "    </tr>\n",
       "    <tr>\n",
       "      <td>2020-04-12</td>\n",
       "      <td>7039.561035</td>\n",
       "      <td>6218.296664</td>\n",
       "      <td>-11.666415</td>\n",
       "    </tr>\n",
       "  </tbody>\n",
       "</table>\n",
       "</div>"
      ],
      "text/plain": [
       "                  Close  SARIMA Predictions    Percent\n",
       "Date                                                  \n",
       "2020-04-03  6867.527344         6491.171083  -5.480230\n",
       "2020-04-04  6791.129395         6263.361714  -7.771427\n",
       "2020-04-05  7271.781250         6197.119733 -14.778518\n",
       "2020-04-06  7176.414551         6459.821443  -9.985392\n",
       "2020-04-07  7334.098633         6627.953299  -9.628250\n",
       "2020-04-08  7302.089355         6814.801442  -6.673267\n",
       "2020-04-09  7302.089355         6754.564138  -7.498199\n",
       "2020-04-10  7302.089355         6512.348013 -10.815279\n",
       "2020-04-11  7302.089355         6284.538645 -13.935062\n",
       "2020-04-12  7039.561035         6218.296664 -11.666415"
      ]
     },
     "execution_count": 25,
     "metadata": {},
     "output_type": "execute_result"
    }
   ],
   "source": [
    "percent = pd.DataFrame([test['Close'],predictions]).transpose()\n",
    "percent['Percent'] = (percent['SARIMA Predictions']/(percent['Close']/100))-100\n",
    "percent"
   ]
  },
  {
   "cell_type": "code",
   "execution_count": 26,
   "metadata": {},
   "outputs": [
    {
     "name": "stdout",
     "output_type": "stream",
     "text": [
      "SARIMA(0,1,3)(1,0,1,12) MSE Error: 545803.6428\n"
     ]
    }
   ],
   "source": [
    "from sklearn.metrics import mean_squared_error\n",
    "\n",
    "error = mean_squared_error(test['Close'], predictions)\n",
    "print(f'SARIMA(0,1,3)(1,0,1,12) MSE Error: {error:11.10}')"
   ]
  },
  {
   "cell_type": "code",
   "execution_count": 27,
   "metadata": {},
   "outputs": [
    {
     "name": "stdout",
     "output_type": "stream",
     "text": [
      "SARIMA(0,1,3)(1,0,1,12) RMSE Error: 738.7852481\n"
     ]
    }
   ],
   "source": [
    "from statsmodels.tools.eval_measures import rmse\n",
    "\n",
    "error = rmse(test['Close'], predictions)\n",
    "print(f'SARIMA(0,1,3)(1,0,1,12) RMSE Error: {error:11.10}')"
   ]
  },
  {
   "cell_type": "markdown",
   "metadata": {},
   "source": [
    "These are outstanding results!\n",
    "### Retrain the model on the full data, and forecast the future"
   ]
  },
  {
   "cell_type": "code",
   "execution_count": 28,
   "metadata": {},
   "outputs": [],
   "source": [
    "# model = SARIMAX(train['Close'],order=(2,2,3))\n",
    "\n",
    "model = SARIMAX(df['Close'],order=(1,1,0),seasonal_order=(0,1,0,7))\n",
    "\n",
    "results = model.fit()\n",
    "fcast = results.predict(len(df),len(df)+8,dynamic=False, typ='levels').rename('SARIMA Forecast')"
   ]
  },
  {
   "cell_type": "code",
   "execution_count": 29,
   "metadata": {},
   "outputs": [
    {
     "data": {
      "image/png": "[encoded data removed]",
      "text/plain": [
       "<Figure size 864x432 with 1 Axes>"
      ]
     },
     "metadata": {
      "needs_background": "light"
     },
     "output_type": "display_data"
    }
   ],
   "source": [
    "# Plot predictions against known values\n",
    "title = 'Predictions'\n",
    "ylabel='Price'\n",
    "xlabel=''\n",
    "\n",
    "ax = df['Close'][\"2020-02-01\":].plot(legend=True,figsize=(12,6),title=title)\n",
    "fcast.plot(legend=True)\n",
    "ax.autoscale(axis='x',tight=True)\n",
    "ax.set(xlabel=xlabel, ylabel=ylabel);"
   ]
  },
  {
   "cell_type": "code",
   "execution_count": 30,
   "metadata": {},
   "outputs": [],
   "source": [
    "forecast = pd.DataFrame(fcast)\n",
    "forecast['RMSE'] = error\n",
    "forecast['Lower Forcast Range TARGET PRICE TO BUY'] = forecast['SARIMA Forecast'] - forecast['RMSE']\n",
    "forecast['Upper Forcast Range TARGET PRICE TO SELL'] = forecast['SARIMA Forecast'] + forecast['RMSE']"
   ]
  },
  {
   "cell_type": "code",
   "execution_count": 31,
   "metadata": {},
   "outputs": [
    {
     "data": {
      "text/html": [
       "<div>\n",
       "<style scoped>\n",
       "    .dataframe tbody tr th:only-of-type {\n",
       "        vertical-align: middle;\n",
       "    }\n",
       "\n",
       "    .dataframe tbody tr th {\n",
       "        vertical-align: top;\n",
       "    }\n",
       "\n",
       "    .dataframe thead th {\n",
       "        text-align: right;\n",
       "    }\n",
       "</style>\n",
       "<table border=\"1\" class=\"dataframe\">\n",
       "  <thead>\n",
       "    <tr style=\"text-align: right;\">\n",
       "      <th></th>\n",
       "      <th>SARIMA Forecast</th>\n",
       "      <th>RMSE</th>\n",
       "      <th>Lower Forcast Range TARGET PRICE TO BUY</th>\n",
       "      <th>Upper Forcast Range TARGET PRICE TO SELL</th>\n",
       "    </tr>\n",
       "  </thead>\n",
       "  <tbody>\n",
       "    <tr>\n",
       "      <td>2020-04-13</td>\n",
       "      <td>6979.589977</td>\n",
       "      <td>738.785248</td>\n",
       "      <td>6240.804729</td>\n",
       "      <td>7718.375225</td>\n",
       "    </tr>\n",
       "    <tr>\n",
       "      <td>2020-04-14</td>\n",
       "      <td>7135.588261</td>\n",
       "      <td>738.785248</td>\n",
       "      <td>6396.803013</td>\n",
       "      <td>7874.373509</td>\n",
       "    </tr>\n",
       "    <tr>\n",
       "      <td>2020-04-15</td>\n",
       "      <td>7103.659274</td>\n",
       "      <td>738.785248</td>\n",
       "      <td>6364.874026</td>\n",
       "      <td>7842.444522</td>\n",
       "    </tr>\n",
       "    <tr>\n",
       "      <td>2020-04-16</td>\n",
       "      <td>7103.655450</td>\n",
       "      <td>738.785248</td>\n",
       "      <td>6364.870202</td>\n",
       "      <td>7842.440698</td>\n",
       "    </tr>\n",
       "    <tr>\n",
       "      <td>2020-04-17</td>\n",
       "      <td>7103.655632</td>\n",
       "      <td>738.785248</td>\n",
       "      <td>6364.870384</td>\n",
       "      <td>7842.440880</td>\n",
       "    </tr>\n",
       "    <tr>\n",
       "      <td>2020-04-18</td>\n",
       "      <td>7103.655623</td>\n",
       "      <td>738.785248</td>\n",
       "      <td>6364.870375</td>\n",
       "      <td>7842.440871</td>\n",
       "    </tr>\n",
       "    <tr>\n",
       "      <td>2020-04-19</td>\n",
       "      <td>6841.127303</td>\n",
       "      <td>738.785248</td>\n",
       "      <td>6102.342055</td>\n",
       "      <td>7579.912552</td>\n",
       "    </tr>\n",
       "    <tr>\n",
       "      <td>2020-04-20</td>\n",
       "      <td>6781.156245</td>\n",
       "      <td>738.785248</td>\n",
       "      <td>6042.370997</td>\n",
       "      <td>7519.941493</td>\n",
       "    </tr>\n",
       "    <tr>\n",
       "      <td>2020-04-21</td>\n",
       "      <td>6937.154530</td>\n",
       "      <td>738.785248</td>\n",
       "      <td>6198.369281</td>\n",
       "      <td>7675.939778</td>\n",
       "    </tr>\n",
       "  </tbody>\n",
       "</table>\n",
       "</div>"
      ],
      "text/plain": [
       "            SARIMA Forecast        RMSE  \\\n",
       "2020-04-13      6979.589977  738.785248   \n",
       "2020-04-14      7135.588261  738.785248   \n",
       "2020-04-15      7103.659274  738.785248   \n",
       "2020-04-16      7103.655450  738.785248   \n",
       "2020-04-17      7103.655632  738.785248   \n",
       "2020-04-18      7103.655623  738.785248   \n",
       "2020-04-19      6841.127303  738.785248   \n",
       "2020-04-20      6781.156245  738.785248   \n",
       "2020-04-21      6937.154530  738.785248   \n",
       "\n",
       "            Lower Forcast Range TARGET PRICE TO BUY  \\\n",
       "2020-04-13                              6240.804729   \n",
       "2020-04-14                              6396.803013   \n",
       "2020-04-15                              6364.874026   \n",
       "2020-04-16                              6364.870202   \n",
       "2020-04-17                              6364.870384   \n",
       "2020-04-18                              6364.870375   \n",
       "2020-04-19                              6102.342055   \n",
       "2020-04-20                              6042.370997   \n",
       "2020-04-21                              6198.369281   \n",
       "\n",
       "            Upper Forcast Range TARGET PRICE TO SELL  \n",
       "2020-04-13                               7718.375225  \n",
       "2020-04-14                               7874.373509  \n",
       "2020-04-15                               7842.444522  \n",
       "2020-04-16                               7842.440698  \n",
       "2020-04-17                               7842.440880  \n",
       "2020-04-18                               7842.440871  \n",
       "2020-04-19                               7579.912552  \n",
       "2020-04-20                               7519.941493  \n",
       "2020-04-21                               7675.939778  "
      ]
     },
     "execution_count": 31,
     "metadata": {},
     "output_type": "execute_result"
    }
   ],
   "source": [
    "forecast"
   ]
  },
  {
   "cell_type": "code",
   "execution_count": null,
   "metadata": {},
   "outputs": [],
   "source": []
  },
  {
   "cell_type": "code",
   "execution_count": null,
   "metadata": {},
   "outputs": [],
   "source": []
  },
  {
   "cell_type": "code",
   "execution_count": null,
   "metadata": {},
   "outputs": [],
   "source": []
  },
  {
   "cell_type": "code",
   "execution_count": null,
   "metadata": {},
   "outputs": [],
   "source": []
  },
  {
   "cell_type": "code",
   "execution_count": null,
   "metadata": {},
   "outputs": [],
   "source": []
  },
  {
   "cell_type": "code",
   "execution_count": null,
   "metadata": {},
   "outputs": [],
   "source": []
  },
  {
   "cell_type": "code",
   "execution_count": null,
   "metadata": {},
   "outputs": [],
   "source": []
  },
  {
   "cell_type": "code",
   "execution_count": null,
   "metadata": {},
   "outputs": [],
   "source": []
  },
  {
   "cell_type": "code",
   "execution_count": null,
   "metadata": {},
   "outputs": [],
   "source": []
  },
  {
   "cell_type": "code",
   "execution_count": null,
   "metadata": {},
   "outputs": [],
   "source": []
  },
  {
   "cell_type": "code",
   "execution_count": null,
   "metadata": {},
   "outputs": [],
   "source": []
  },
  {
   "cell_type": "code",
   "execution_count": null,
   "metadata": {},
   "outputs": [],
   "source": []
  },
  {
   "cell_type": "code",
   "execution_count": null,
   "metadata": {},
   "outputs": [],
   "source": []
  },
  {
   "cell_type": "code",
   "execution_count": null,
   "metadata": {},
   "outputs": [],
   "source": []
  }
 ],
 "metadata": {
  "kernelspec": {
   "display_name": "Python 3",
   "language": "python",
   "name": "python3"
  },
  "language_info": {
   "codemirror_mode": {
    "name": "ipython",
    "version": 3
   },
   "file_extension": ".py",
   "mimetype": "text/x-python",
   "name": "python",
   "nbconvert_exporter": "python",
   "pygments_lexer": "ipython3",
   "version": "3.7.4"
  }
 },
 "nbformat": 4,
 "nbformat_minor": 2
}
